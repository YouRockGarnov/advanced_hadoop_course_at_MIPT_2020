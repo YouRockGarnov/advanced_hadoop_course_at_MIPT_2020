{
 "nbformat": 4,
 "nbformat_minor": 0,
 "metadata": {
  "colab": {
   "name": "comparison_task_2_spark.ipynb",
   "provenance": [],
   "collapsed_sections": [],
   "toc_visible": true
  },
  "kernelspec": {
   "name": "python3",
   "language": "python",
   "display_name": "Python 3"
  },
  "pycharm": {
   "stem_cell": {
    "cell_type": "raw",
    "source": [],
    "metadata": {
     "collapsed": false
    }
   }
  }
 },
 "cells": [
  {
   "cell_type": "code",
   "metadata": {
    "colab": {
     "base_uri": "https://localhost:8080/",
     "height": 330
    },
    "id": "SdEwMsKhmqYs",
    "outputId": "4d79fad8-4816-4ba5-b070-06d2357c4e14"
   },
   "source": [
    "import pandas as pd\n",
    "import numpy as np\n",
    "import matplotlib.pyplot as plt\n",
    "%matplotlib inline\n",
    "\n",
    "import pyspark\n",
    "from pyspark import SparkContext, SparkConf, SparkSession"
   ],
   "execution_count": 2,
   "outputs": [
    {
     "output_type": "error",
     "ename": "ImportError",
     "evalue": "ignored",
     "traceback": [
      "\u001b[0;31m---------------------------------------------------------------------------\u001b[0m",
      "\u001b[0;31mImportError\u001b[0m                               Traceback (most recent call last)",
      "\u001b[0;32m<ipython-input-2-664d46b804e4>\u001b[0m in \u001b[0;36m<module>\u001b[0;34m()\u001b[0m\n\u001b[1;32m      8\u001b[0m \u001b[0;32mfrom\u001b[0m \u001b[0mpyspark\u001b[0m\u001b[0;34m.\u001b[0m\u001b[0msql\u001b[0m\u001b[0;34m.\u001b[0m\u001b[0mtypes\u001b[0m \u001b[0;32mimport\u001b[0m \u001b[0;34m*\u001b[0m\u001b[0;34m\u001b[0m\u001b[0;34m\u001b[0m\u001b[0m\n\u001b[1;32m      9\u001b[0m \u001b[0;32mfrom\u001b[0m \u001b[0mpyspark\u001b[0m\u001b[0;34m.\u001b[0m\u001b[0msql\u001b[0m\u001b[0;34m.\u001b[0m\u001b[0mfunctions\u001b[0m \u001b[0;32mimport\u001b[0m \u001b[0;34m*\u001b[0m\u001b[0;34m\u001b[0m\u001b[0;34m\u001b[0m\u001b[0m\n\u001b[0;32m---> 10\u001b[0;31m \u001b[0;32mfrom\u001b[0m \u001b[0mpyspark\u001b[0m \u001b[0;32mimport\u001b[0m \u001b[0mSparkContext\u001b[0m\u001b[0;34m,\u001b[0m \u001b[0mSparkConf\u001b[0m\u001b[0;34m,\u001b[0m \u001b[0mSparkSession\u001b[0m\u001b[0;34m\u001b[0m\u001b[0;34m\u001b[0m\u001b[0m\n\u001b[0m",
      "\u001b[0;31mImportError\u001b[0m: cannot import name 'SparkSession'",
      "",
      "\u001b[0;31m---------------------------------------------------------------------------\u001b[0;32m\nNOTE: If your import is failing due to a missing package, you can\nmanually install dependencies using either !pip or !apt.\n\nTo view examples of installing some common dependencies, click the\n\"Open Examples\" button below.\n\u001b[0;31m---------------------------------------------------------------------------\u001b[0m\n"
     ]
    }
   ]
  },
  {
   "cell_type": "code",
   "metadata": {
    "id": "m8OXH2WmjqiR"
   },
   "source": [
    "# create the session\n",
    "conf = SparkConf().set(\"spark.ui.port\", \"4050\")\n",
    "\n",
    "# create the context\n",
    "sc = pyspark.SparkContext(conf=conf)\n",
    "spark = SparkSession.builder.getOrCreate()"
   ],
   "execution_count": 3,
   "outputs": []
  },
  {
   "cell_type": "code",
   "metadata": {
    "id": "gpYO0Wxe2xqd"
   },
   "source": [
    "rdd = spark.sparkContext.textFile(\"/data/user_events_part/events_user_dt_sample.txt\")"
   ],
   "execution_count": 5,
   "outputs": []
  },
  {
   "cell_type": "code",
   "metadata": {
    "colab": {
     "base_uri": "https://localhost:8080/"
    },
    "id": "yQLcd-Ka3YN1",
    "outputId": "33a03c05-9273-4365-8409-0292cc1b6374"
   },
   "source": [
    "domain_difftime_rdd = rdd.map(lambda text : text.split('\\t')[2:])\n",
    "\n",
    "# delete www. in domains and diff_time:999 -> int(999)\n",
    "prepared_domain_difftime_rdd = domain_difftime_rdd.map(lambda x : (x[0].replace('://www.', '://'), int(x[1].split(':')[1]))) \n",
    "prepared_domain_difftime_rdd.take(2)"
   ],
   "execution_count": 11,
   "outputs": [
    {
     "output_type": "execute_result",
     "data": {
      "text/plain": [
       "[('http://worldoftanks.ru/ru/news/pc-browser/11/autumn_armored_maneuvers/',\n",
       "  9745),\n",
       " ('http://motorpage.ru/feedbacks/', 100)]"
      ]
     },
     "metadata": {
      "tags": []
     },
     "execution_count": 11
    }
   ]
  },
  {
   "cell_type": "code",
   "metadata": {
    "colab": {
     "base_uri": "https://localhost:8080/"
    },
    "id": "LQI6Xn-24qW-",
    "outputId": "7995d82d-b661-45e2-b8fa-bd135ba1c718"
   },
   "source": [
    "from operator import add\n",
    "\n",
    "agregated_key_rdd = prepared_domain_difftime_rdd.aggregateByKey(0, add, add)\n",
    "agregated_key_rdd.take(2)"
   ],
   "execution_count": 18,
   "outputs": [
    {
     "output_type": "execute_result",
     "data": {
      "text/plain": [
       "[('http://championat.com/football/article-207255-futbolisty-v-instagrame-luchshee-za-nedelju.html',\n",
       "  24),\n",
       " ('http://lifenews.ru/news/142341', 3)]"
      ]
     },
     "metadata": {
      "tags": []
     },
     "execution_count": 18
    }
   ]
  },
  {
   "cell_type": "code",
   "metadata": {
    "id": "qCszQ2pMkoVt"
   },
   "source": [
    "domains_rdd = agregated_key_rdd.map(lambda x : (x[0].split('://')[1].split('/')[0], x[1])).groupByKey()\n",
    "quantile_rdd = domains_rdd.map(lambda x : (x[0], np.median(list(x[1])), np.quantile(list(x[1]), 0.75)))\n",
    "median_sorted_rdd = quantile_rdd.map(lambda x : (x[1], x)).sortByKey(ascending=False)"
   ],
   "execution_count": 38,
   "outputs": []
  },
  {
   "cell_type": "code",
   "metadata": {
    "colab": {
     "base_uri": "https://localhost:8080/"
    },
    "id": "sVOe89K2pqqj",
    "outputId": "f78a0621-5b4b-49f2-a5ba-3359c1030dd6"
   },
   "source": [
    "top_10 = median_sorted_rdd.take(10)\n",
    "for result in top_10:\n",
    "    print(*result[1], sep=' ')"
   ],
   "execution_count": 39,
   "outputs": [
    {
     "output_type": "stream",
     "text": [
      "bashmedia.info 14975.0 14975.0\n",
      "ridus.ru 11308.0 11308.0\n",
      "evening-kazan.ru 7971.0 7971.0\n",
      "furfur.me 4836.0 7160.0\n",
      "tech.obozrevatel.com 4246.0 4246.0\n",
      "filmz.ru 4243.0 4243.0\n",
      "instaforex.com 3828.0 3828.0\n",
      "readovka.ru 2661.0 9042.5\n",
      "tanci.tnt-online.ru 2238.0 2238.0\n",
      "life.panorama.am 2192.0 2192.0\n"
     ],
     "name": "stdout"
    }
   ]
  }
 ]
}